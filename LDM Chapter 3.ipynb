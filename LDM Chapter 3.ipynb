{
 "cells": [
  {
   "cell_type": "markdown",
   "metadata": {},
   "source": [
    "# Chapter 3\n",
    "\n",
    "This file is used for the computations used in the LDM book, Chapter 3."
   ]
  },
  {
   "cell_type": "markdown",
   "metadata": {},
   "source": [
    "## Urn problem"
   ]
  },
  {
   "cell_type": "code",
   "execution_count": 1,
   "metadata": {
    "collapsed": false
   },
   "outputs": [
    {
     "name": "stdout",
     "output_type": "stream",
     "text": [
      "P^3:\n",
      "[[ 0.152  0.456  0.294  0.098]\n",
      " [ 0.152  0.456  0.294  0.098]\n",
      " [ 0.098  0.294  0.456  0.152]\n",
      " [ 0.098  0.294  0.456  0.152]]\n",
      "\n",
      "P[x | x0 = 0, z1 = b] = [ 0.188  0.565  0.185  0.062]\n",
      "\n",
      "a_0 = [[ 0.125]\n",
      " [ 0.   ]\n",
      " [ 0.375]\n",
      " [ 0.   ]]\n",
      "a_1 = [[ 0.044]\n",
      " [ 0.   ]\n",
      " [ 0.244]\n",
      " [ 0.   ]]\n",
      "a_2 = [[ 0.   ]\n",
      " [ 0.063]\n",
      " [ 0.   ]\n",
      " [ 0.051]]\n",
      "\n",
      "u_2 = [[ 0.     0.552  0.     0.448]]\n",
      "\n",
      "m_0 = [[ 0.125]\n",
      " [ 0.   ]\n",
      " [ 0.375]\n",
      " [ 0.   ]]\n",
      "m_1 = [[ 0.025]\n",
      " [ 0.   ]\n",
      " [ 0.225]\n",
      " [ 0.   ]]\n",
      "i_1 = [0 0 2 2]\n",
      "m_2 = [[ 0.   ]\n",
      " [ 0.034]\n",
      " [ 0.   ]\n",
      " [ 0.045]]\n",
      "i_2 = [2 2 2 2]\n"
     ]
    }
   ],
   "source": [
    "%matplotlib notebook\n",
    "\n",
    "import numpy as np\n",
    "import matplotlib.pyplot as plt\n",
    "import numpy.random as rnd\n",
    "from domains import household_robot\n",
    "\n",
    "np.set_printoptions(precision=3)\n",
    "\n",
    "plt.rc('text', usetex = True)\n",
    "plt.rc('font', family = 'serif', serif = 'Computer Modern Roman', size = 18)\n",
    "\n",
    "P = np.array([[.2, .6, .15, .05],[.2, .6, .15, .05],[.05, .15, .6, .2],[.05, .15, .6, .2]])\n",
    "O = np.array([[1, 0],[0, 1],[1, 0],[0, 1]])\n",
    "\n",
    "u0 = np.array([[0.125, 0.375, 0.375, 0.125]])\n",
    "\n",
    "# -- MC prediction\n",
    "\n",
    "P3 = P.dot(P.dot(P))\n",
    "print('P^3:')\n",
    "print(P3)\n",
    "\n",
    "# -- Compute probability of x1 given x0 = 0 and z1 = b\n",
    "\n",
    "u = P[0, 1] * P[1, :] + P[0, 3] * P[3, :]\n",
    "u = u / u.sum()\n",
    "\n",
    "print('\\nP[x | x0 = 0, z1 = b] =', u)\n",
    "\n",
    "# -- Forward computation\n",
    "\n",
    "Z = [0, 0, 1]\n",
    "\n",
    "a = np.diag(O[:, Z[0]]).dot(u0.T)\n",
    "print('\\na_0 =', a)\n",
    "\n",
    "for t in range(1, 3):\n",
    "    a = np.diag(O[:, Z[t]]).dot(P.T).dot(a)\n",
    "    print('a_' + str(t) + ' =', a)\n",
    "    \n",
    "print('\\nu_2 =', (a/sum(a)).T)\n",
    "\n",
    "# -- Viterbi\n",
    "\n",
    "m = (u0 * O[:,Z[0]]).T\n",
    "print('\\nm_0 =', m)\n",
    "\n",
    "for t in range(1, 3):\n",
    "    i = (m * P).argmax(axis=0)\n",
    "    m = O[:,Z[t]] * (m * P).max(axis=0)\n",
    "    m = m.reshape((4, 1))\n",
    "    print('m_' + str(t) + ' =', m)\n",
    "    print('i_' + str(t) + ' =', i)"
   ]
  },
  {
   "cell_type": "markdown",
   "metadata": {},
   "source": [
    "## Household robot example"
   ]
  },
  {
   "cell_type": "code",
   "execution_count": 2,
   "metadata": {
    "collapsed": false,
    "scrolled": false
   },
   "outputs": [
    {
     "name": "stdout",
     "output_type": "stream",
     "text": [
      "[[  1.800e-03   4.500e-04   3.420e-02   8.550e-03   2.000e-04   5.000e-05\n",
      "    3.800e-03   9.500e-04   3.420e-02   8.550e-03   6.498e-01   1.625e-01\n",
      "    3.800e-03   9.500e-04   7.220e-02   1.805e-02]\n",
      " [  1.125e-04   2.138e-03   2.138e-03   4.061e-02   1.250e-05   2.375e-04\n",
      "    2.375e-04   4.513e-03   2.138e-03   4.061e-02   4.061e-02   7.716e-01\n",
      "    2.375e-04   4.513e-03   4.513e-03   8.574e-02]\n",
      " [  2.025e-03   2.250e-04   3.848e-02   4.275e-03   3.848e-02   4.275e-03\n",
      "    7.310e-01   8.123e-02   2.250e-04   2.500e-05   4.275e-03   4.750e-04\n",
      "    4.275e-03   4.750e-04   8.123e-02   9.025e-03]\n",
      " [  5.184e-01   5.760e-02   1.296e-01   1.440e-02   5.760e-02   6.400e-03\n",
      "    1.440e-02   1.600e-03   1.296e-01   1.440e-02   3.240e-02   3.600e-03\n",
      "    1.440e-02   1.600e-03   3.600e-03   4.000e-04]\n",
      " [  2.025e-03   3.848e-02   2.250e-04   4.275e-03   2.250e-04   4.275e-03\n",
      "    2.500e-05   4.750e-04   3.848e-02   7.310e-01   4.275e-03   8.123e-02\n",
      "    4.275e-03   8.122e-02   4.750e-04   9.025e-03]\n",
      " [  3.240e-02   3.600e-03   8.100e-03   9.000e-04   3.600e-03   4.000e-04\n",
      "    9.000e-04   1.000e-04   6.156e-01   6.840e-02   1.539e-01   1.710e-02\n",
      "    6.840e-02   7.600e-03   1.710e-02   1.900e-03]]\n"
     ]
    }
   ],
   "source": [
    "P = np.array([[0.0 , 0.5 , 0.5 , 0.0 , 0.0 , 0.0],\n",
    "              [0.5 , 0.0 , 0.0 , 0.5 , 0.0 , 0.0],\n",
    "              [0.5 , 0.0 , 0.0 , 0.5 , 0.0 , 0.0],\n",
    "              [0.0 , 0.5 , 0.0 , 0.0 , 0.5 , 0.0],\n",
    "              [0.0 , 0.0 , 0.0 , 0.5 , 0.0 , 0.5],\n",
    "              [0.0 , 0.0 , 0.0 , 0.5 , 0.5 , 0.0]])\n",
    "\n",
    "aux = household_robot()\n",
    "O = np.array([aux.o(x='K',a='L'), \n",
    "              aux.o(x='P',a='L'),\n",
    "              aux.o(x='D',a='L'),\n",
    "              aux.o(x='H1',a='L'), \n",
    "              aux.o(x='B',a='L'), \n",
    "              aux.o(x='L',a='L')])\n",
    "print(O)"
   ]
  }
 ],
 "metadata": {
  "kernelspec": {
   "display_name": "Python 3",
   "language": "python",
   "name": "python3"
  },
  "language_info": {
   "codemirror_mode": {
    "name": "ipython",
    "version": 3
   },
   "file_extension": ".py",
   "mimetype": "text/x-python",
   "name": "python",
   "nbconvert_exporter": "python",
   "pygments_lexer": "ipython3",
   "version": "3.5.2"
  }
 },
 "nbformat": 4,
 "nbformat_minor": 0
}
